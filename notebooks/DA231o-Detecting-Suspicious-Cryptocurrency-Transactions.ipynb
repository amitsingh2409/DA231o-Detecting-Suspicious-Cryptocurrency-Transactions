{
 "cells": [
  {
   "cell_type": "code",
   "execution_count": 1,
   "metadata": {
    "colab": {
     "base_uri": "https://localhost:8080/"
    },
    "executionInfo": {
     "elapsed": 26312,
     "status": "ok",
     "timestamp": 1733389097228,
     "user": {
      "displayName": "Shubham Yadav",
      "userId": "12982005697369295270"
     },
     "user_tz": -330
    },
    "id": "KCgggcR-fjzz",
    "outputId": "64262962-9d0c-4144-dbee-97e3da86bfbf"
   },
   "outputs": [
    {
     "name": "stdout",
     "output_type": "stream",
     "text": [
      "Mounted at /content/drive\n"
     ]
    }
   ],
   "source": [
    "from google.colab import drive\n",
    "drive.mount('/content/drive')"
   ]
  },
  {
   "cell_type": "markdown",
   "metadata": {
    "id": "iAVJMA7LewSA"
   },
   "source": [
    "### PySpark Setup."
   ]
  },
  {
   "cell_type": "code",
   "execution_count": 7,
   "metadata": {
    "colab": {
     "base_uri": "https://localhost:8080/"
    },
    "executionInfo": {
     "elapsed": 24107,
     "status": "ok",
     "timestamp": 1733389552663,
     "user": {
      "displayName": "Shubham Yadav",
      "userId": "12982005697369295270"
     },
     "user_tz": -330
    },
    "id": "NbRruuKLc3Fs",
    "outputId": "512665ee-193e-47c7-ae09-803f545ddc02"
   },
   "outputs": [
    {
     "name": "stdout",
     "output_type": "stream",
     "text": [
      "/content/drive/MyDrive/DA231o-Detecting-Suspicious-Cryptocurrency-Transactions/SparkData/spark-3.5.2-bin-hadoop3.tgz\n"
     ]
    }
   ],
   "source": [
    "#######################################\n",
    "### START INIT ENVIRONMENT\n",
    "!ls /content/drive/MyDrive/DA231o-Detecting-Suspicious-Cryptocurrency-Transactions/SparkData/spark-3.5.2-bin-hadoop3.tgz\n",
    "!apt-get install openjdk-8-jdk-headless -qq > /dev/null\n",
    "!tar xf /content/drive/MyDrive/DA231o-Detecting-Suspicious-Cryptocurrency-Transactions/SparkData/spark-3.5.2-bin-hadoop3.tgz\n",
    "!pip install -q findspark\n",
    "!pip install -q pyspark\n",
    "import os\n",
    "os.environ[\"JAVA_HOME\"] = \"/usr/lib/jvm/java-8-openjdk-amd64\"\n",
    "os.environ[\"SPARK_HOME\"] = \"/content/spark-3.5.2-bin-hadoop3\"\n",
    "### END INIT ENVIRONMENT"
   ]
  },
  {
   "cell_type": "markdown",
   "metadata": {
    "id": "OOZ08imKe6kE"
   },
   "source": [
    "### Mount the drive and load the data from the shared drive\n",
    "\n",
    "All the data files are mounted at `/content/data`. You need to load the needed files while you're answering the question. Load the correct folder based on which scale factor of data you want to test on."
   ]
  },
  {
   "cell_type": "code",
   "execution_count": 8,
   "metadata": {
    "executionInfo": {
     "elapsed": 363,
     "status": "ok",
     "timestamp": 1733389563972,
     "user": {
      "displayName": "Shubham Yadav",
      "userId": "12982005697369295270"
     },
     "user_tz": -330
    },
    "id": "1Ec68h4PdDYU"
   },
   "outputs": [],
   "source": [
    "!mkdir -p /content/data\n",
    "!rm -rf /content/data/*.pq\n",
    "!ln -s /content/drive/MyDrive/DA231o-Detecting-Suspicious-Cryptocurrency-Transactions/data/*.pq /content/data/"
   ]
  },
  {
   "cell_type": "code",
   "execution_count": 10,
   "metadata": {
    "colab": {
     "base_uri": "https://localhost:8080/"
    },
    "executionInfo": {
     "elapsed": 450,
     "status": "ok",
     "timestamp": 1733389753486,
     "user": {
      "displayName": "Shubham Yadav",
      "userId": "12982005697369295270"
     },
     "user_tz": -330
    },
    "id": "WTLufOhTFHTq",
    "outputId": "d69bf4ac-9b16-4915-ce74-3a1ade2acd1e"
   },
   "outputs": [
    {
     "name": "stdout",
     "output_type": "stream",
     "text": [
      "\u001b[0m\u001b[01;36mbitcoin.pq\u001b[0m@\n"
     ]
    }
   ],
   "source": [
    "ls /content/data"
   ]
  },
  {
   "cell_type": "markdown",
   "metadata": {
    "id": "wbft4byWfKgp"
   },
   "source": [
    "### Create spark session"
   ]
  },
  {
   "cell_type": "code",
   "execution_count": 9,
   "metadata": {
    "executionInfo": {
     "elapsed": 7428,
     "status": "ok",
     "timestamp": 1733389581581,
     "user": {
      "displayName": "Shubham Yadav",
      "userId": "12982005697369295270"
     },
     "user_tz": -330
    },
    "id": "2QhxBSHmfGoG"
   },
   "outputs": [],
   "source": [
    "#######################################\n",
    "### START OF PYSPARK INIT\n",
    "import findspark\n",
    "findspark.init()\n",
    "findspark.find()\n",
    "from pyspark.sql import SparkSession\n",
    "input_type = 'sample'\n",
    "spark = SparkSession.builder\\\n",
    "         .master(\"local\")\\\n",
    "         .appName(\"Colab\")\\\n",
    "         .config('spark.ui.port', '4050')\\\n",
    "         .getOrCreate()\n",
    "# Spark is ready to go within Colab!\n",
    "### END OF PYSPARK INIT"
   ]
  },
  {
   "cell_type": "markdown",
   "metadata": {
    "id": "rpO9pMXpAZUw"
   },
   "source": [
    "### Create DataFrames for all relevant files"
   ]
  },
  {
   "cell_type": "code",
   "execution_count": 51,
   "metadata": {
    "executionInfo": {
     "elapsed": 362,
     "status": "ok",
     "timestamp": 1733394940800,
     "user": {
      "displayName": "Shubham Yadav",
      "userId": "12982005697369295270"
     },
     "user_tz": -330
    },
    "id": "wKVif5nlfOck"
   },
   "outputs": [],
   "source": [
    "#######################################\n",
    "### START COMMON USER IMPORTS\n",
    "#######################################\n",
    "\n",
    "from pyspark.sql import functions as F\n",
    "from pyspark.sql.functions import col,sum\n",
    "from pyspark.ml.stat import Correlation\n",
    "from pyspark.ml.feature import VectorAssembler\n",
    "import shutil\n",
    "from pyspark.sql.window import Window\n",
    "from scipy.stats import boxcox\n",
    "\n",
    "from pyspark.ml.classification import (\n",
    "    LogisticRegression,\n",
    "    DecisionTreeClassifier,\n",
    "    RandomForestClassifier,\n",
    "    NaiveBayes,\n",
    "    GBTClassifier,\n",
    "    LinearSVC,\n",
    ")\n",
    "from pyspark.ml.evaluation import BinaryClassificationEvaluator\n",
    "from pyspark.ml.evaluation import MulticlassClassificationEvaluator\n"
   ]
  },
  {
   "cell_type": "code",
   "execution_count": null,
   "metadata": {
    "id": "lCMIzUhiAYkH"
   },
   "outputs": [],
   "source": [
    "def read_pq(path_to_file):\n",
    "  return spark.read.parquet(path_to_file)\n",
    "\n",
    "df = read_pq('/content/data/bitcoin.pq')"
   ]
  },
  {
   "cell_type": "code",
   "execution_count": null,
   "metadata": {
    "id": "xORP5HhXFkxy"
   },
   "outputs": [],
   "source": [
    "df.show()"
   ]
  },
  {
   "cell_type": "code",
   "execution_count": 13,
   "metadata": {
    "colab": {
     "base_uri": "https://localhost:8080/"
    },
    "executionInfo": {
     "elapsed": 365,
     "status": "ok",
     "timestamp": 1733389900325,
     "user": {
      "displayName": "Shubham Yadav",
      "userId": "12982005697369295270"
     },
     "user_tz": -330
    },
    "id": "jiPD46IoFn0J",
    "outputId": "898c1c7d-69b9-4f0d-8477-d915dc44db80"
   },
   "outputs": [
    {
     "name": "stdout",
     "output_type": "stream",
     "text": [
      "root\n",
      " |-- address: string (nullable = true)\n",
      " |-- year: long (nullable = true)\n",
      " |-- day: long (nullable = true)\n",
      " |-- length: long (nullable = true)\n",
      " |-- weight: double (nullable = true)\n",
      " |-- count: long (nullable = true)\n",
      " |-- looped: long (nullable = true)\n",
      " |-- neighbors: long (nullable = true)\n",
      " |-- income: double (nullable = true)\n",
      " |-- label: string (nullable = true)\n",
      "\n"
     ]
    }
   ],
   "source": [
    "df.printSchema()"
   ]
  },
  {
   "cell_type": "markdown",
   "metadata": {
    "id": "OHnC7g_sGLI3"
   },
   "source": [
    "Summary Statistics"
   ]
  },
  {
   "cell_type": "code",
   "execution_count": 14,
   "metadata": {
    "colab": {
     "base_uri": "https://localhost:8080/"
    },
    "executionInfo": {
     "elapsed": 32721,
     "status": "ok",
     "timestamp": 1733390099322,
     "user": {
      "displayName": "Shubham Yadav",
      "userId": "12982005697369295270"
     },
     "user_tz": -330
    },
    "id": "5AaJTvSaGRHY",
    "outputId": "8d82ed9b-948d-4b6c-e0fd-a85d217748a0"
   },
   "outputs": [
    {
     "name": "stdout",
     "output_type": "stream",
     "text": [
      "+-------+--------------------+-----------------+-----------------+-----------------+--------------------+------------------+------------------+-----------------+--------------------+-----------+\n",
      "|summary|             address|             year|              day|           length|              weight|             count|            looped|        neighbors|              income|      label|\n",
      "+-------+--------------------+-----------------+-----------------+-----------------+--------------------+------------------+------------------+-----------------+--------------------+-----------+\n",
      "|  count|             2916697|          2916697|          2916697|          2916697|             2916697|           2916697|           2916697|          2916697|             2916697|    2916697|\n",
      "|   mean|                NULL|2014.475011288454| 181.457211016434|45.00859293920486|  0.5455192341637917| 721.6446428957139|238.50669884461772|2.206516137946451|4.4648890071859665E9|       NULL|\n",
      "| stddev|                NULL| 2.25739755205928|104.0118357669444|58.98236229927665|   3.674255255596694|1689.6757938284234| 966.3216858193011|17.91876507824684|1.626859606693423E11|       NULL|\n",
      "|    min|11111111111111111...|             2011|                1|                0|3.60646866835999E-94|                 1|                 0|                1|               3.0E7|montrealAPT|\n",
      "|    max|             unknown|             2018|              365|              144|     1943.7487933134|             14497|             14496|            12920|  4.9964398238996E13|      white|\n",
      "+-------+--------------------+-----------------+-----------------+-----------------+--------------------+------------------+------------------+-----------------+--------------------+-----------+\n",
      "\n"
     ]
    }
   ],
   "source": [
    "df.describe().show()"
   ]
  },
  {
   "cell_type": "markdown",
   "metadata": {
    "id": "Jj7q9HgYGi24"
   },
   "source": [
    "Null Values count"
   ]
  },
  {
   "cell_type": "code",
   "execution_count": 17,
   "metadata": {
    "colab": {
     "base_uri": "https://localhost:8080/"
    },
    "executionInfo": {
     "elapsed": 2629,
     "status": "ok",
     "timestamp": 1733390213454,
     "user": {
      "displayName": "Shubham Yadav",
      "userId": "12982005697369295270"
     },
     "user_tz": -330
    },
    "id": "o1sdTSfxGlsG",
    "outputId": "741844ab-aee3-4799-ad0e-b99da263e1b0"
   },
   "outputs": [
    {
     "name": "stdout",
     "output_type": "stream",
     "text": [
      "+-------+----+---+------+------+-----+------+---------+------+-----+\n",
      "|address|year|day|length|weight|count|looped|neighbors|income|label|\n",
      "+-------+----+---+------+------+-----+------+---------+------+-----+\n",
      "|      0|   0|  0|     0|     0|    0|     0|        0|     0|    0|\n",
      "+-------+----+---+------+------+-----+------+---------+------+-----+\n",
      "\n"
     ]
    }
   ],
   "source": [
    "df.select([sum(col(c).isNull().cast(\"int\")).alias(c) for c in df.columns]).show()"
   ]
  },
  {
   "cell_type": "markdown",
   "metadata": {
    "id": "8K-lcYnmHCOX"
   },
   "source": [
    "Correlation Analysis"
   ]
  },
  {
   "cell_type": "code",
   "execution_count": null,
   "metadata": {
    "id": "lITTV72KHFzx"
   },
   "outputs": [],
   "source": [
    "assembler = VectorAssembler(inputCols=[\"year\", \"day\", \"length\", \"weight\", \"count\", \"looped\", \"neighbors\", \"income\"],\n",
    "                            outputCol=\"features\")\n",
    "vector_df = assembler.transform(df).select(\"features\")\n",
    "correlation = Correlation.corr(vector_df, \"features\").head()[0]\n",
    "print(\"Correlation Matrix:\\n\", correlation.toArray())"
   ]
  },
  {
   "cell_type": "code",
   "execution_count": 70,
   "metadata": {
    "colab": {
     "base_uri": "https://localhost:8080/"
    },
    "executionInfo": {
     "elapsed": 749,
     "status": "ok",
     "timestamp": 1733396507766,
     "user": {
      "displayName": "Shubham Yadav",
      "userId": "12982005697369295270"
     },
     "user_tz": -330
    },
    "id": "R8t-i-8jHWi4",
    "outputId": "ab2aa5d4-11f6-4515-f11e-046366d03280"
   },
   "outputs": [
    {
     "name": "stdout",
     "output_type": "stream",
     "text": [
      "+----+-----+\n",
      "|year|count|\n",
      "+----+-----+\n",
      "|2011| 5438|\n",
      "|2012| 6318|\n",
      "|2013|12800|\n",
      "|2014|15919|\n",
      "|2015| 9154|\n",
      "|2016|21107|\n",
      "|2017| 9062|\n",
      "|2018| 4998|\n",
      "+----+-----+\n",
      "\n"
     ]
    }
   ],
   "source": [
    "df.groupBy(\"year\").count().orderBy(\"year\").show()"
   ]
  },
  {
   "cell_type": "code",
   "execution_count": 73,
   "metadata": {
    "colab": {
     "base_uri": "https://localhost:8080/"
    },
    "executionInfo": {
     "elapsed": 394,
     "status": "ok",
     "timestamp": 1733398869608,
     "user": {
      "displayName": "Shubham Yadav",
      "userId": "12982005697369295270"
     },
     "user_tz": -330
    },
    "id": "iq13LfdSHrux",
    "outputId": "3548cb6c-33b2-425a-a166-49b98a67ea32"
   },
   "outputs": [
    {
     "name": "stdout",
     "output_type": "stream",
     "text": [
      "+---+-----+\n",
      "|day|count|\n",
      "+---+-----+\n",
      "|  1|  140|\n",
      "|  2|  176|\n",
      "|  3|  194|\n",
      "|  4|  173|\n",
      "|  5|  175|\n",
      "|  6|  175|\n",
      "|  7|  152|\n",
      "|  8|  133|\n",
      "|  9|  139|\n",
      "| 10|  175|\n",
      "+---+-----+\n",
      "only showing top 10 rows\n",
      "\n"
     ]
    }
   ],
   "source": [
    "df.groupBy(\"day\").count().orderBy(\"day\").show(10)"
   ]
  },
  {
   "cell_type": "markdown",
   "metadata": {
    "id": "IbXikyUKoP3h"
   },
   "source": [
    "Preproccesing of \"label\" column"
   ]
  },
  {
   "cell_type": "code",
   "execution_count": 40,
   "metadata": {
    "executionInfo": {
     "elapsed": 5924,
     "status": "ok",
     "timestamp": 1733394120347,
     "user": {
      "displayName": "Shubham Yadav",
      "userId": "12982005697369295270"
     },
     "user_tz": -330
    },
    "id": "rahZOeafOSDn"
   },
   "outputs": [],
   "source": [
    "# Down-sample the majority class\n",
    "majority_class = df.filter(F.col(\"label\") == \"white\")\n",
    "minority_class = df.filter(F.col(\"label\") != \"white\")\n",
    "# change minority class label to \"black\"\n",
    "minority_class = minority_class.withColumn(\"label\", F.lit(\"black\"))\n",
    "# minority class has around 42k rows\n",
    "majority_class_downsampled = majority_class.sample(fraction=0.015, seed=1024)\n",
    "balanced_df = majority_class_downsampled.union(minority_class)\n",
    "shutil.rmtree(\"/content/data/processed_data.pq\", ignore_errors=True)\n",
    "balanced_df.write.parquet(\"/content/data/processed_data.pq\")"
   ]
  },
  {
   "cell_type": "code",
   "execution_count": 46,
   "metadata": {
    "executionInfo": {
     "elapsed": 20005,
     "status": "ok",
     "timestamp": 1733394455753,
     "user": {
      "displayName": "Shubham Yadav",
      "userId": "12982005697369295270"
     },
     "user_tz": -330
    },
    "id": "xCIE-WrXWAW1"
   },
   "outputs": [],
   "source": [
    "df = spark.read.parquet(\"/content/data/processed_data.pq\")\n",
    "\n",
    "# New features\n",
    "df = df.withColumn(\"num_addresses\", F.count(\"address\").over(Window.partitionBy(\"address\")))\n",
    "df = df.withColumn(\n",
    "    \"day_of_week\",\n",
    "    F.dayofweek(F.to_date(F.concat_ws(\"-\", F.col(\"year\"), F.col(\"day\")), \"yyyy-D\")),\n",
    ")\n",
    "df = df.withColumn(\"is_holiday\", F.when(F.col(\"day_of_week\").isin([1, 7]), 1).otherwise(0))\n",
    "\n",
    "# Interaction features\n",
    "df = df.withColumn(\"length_weight_interaction\", F.col(\"length\") * F.col(\"weight\"))\n",
    "df = df.withColumn(\"income_count_interaction\", F.col(\"income\") * F.col(\"count\"))\n",
    "\n",
    "# Boxcox transformation\n",
    "pandas_df = df.toPandas()\n",
    "for feature in [\"length\", \"income\", \"weight\", \"count\", \"neighbors\"]:\n",
    "    pandas_df[f\"{feature}_boxcox\"], _ = boxcox(pandas_df[feature] + 1)\n",
    "\n",
    "# Convert back to Spark DataFrame\n",
    "df = spark.createDataFrame(pandas_df)\n",
    "\n",
    "shutil.rmtree(\"/content/data/feature_engineered_data.pq\", ignore_errors=True)\n",
    "df.write.parquet(\"/content/data/feature_engineered_data.pq\")"
   ]
  },
  {
   "cell_type": "code",
   "execution_count": 72,
   "metadata": {
    "colab": {
     "base_uri": "https://localhost:8080/"
    },
    "executionInfo": {
     "elapsed": 376,
     "status": "ok",
     "timestamp": 1733398817370,
     "user": {
      "displayName": "Shubham Yadav",
      "userId": "12982005697369295270"
     },
     "user_tz": -330
    },
    "id": "bSSKzpCSX4nV",
    "outputId": "e0e15e47-4d91-4e55-d16c-86359ba786ab"
   },
   "outputs": [
    {
     "name": "stdout",
     "output_type": "stream",
     "text": [
      "+--------------------+----+---+------+------------------+-----+------+---------+------------+-----+-------------+-----------+----------+-------------------------+------------------------+-----------------+------------------+--------------------+------------------+------------------+\n",
      "|             address|year|day|length|            weight|count|looped|neighbors|      income|label|num_addresses|day_of_week|is_holiday|length_weight_interaction|income_count_interaction|    length_boxcox|     income_boxcox|       weight_boxcox|      count_boxcox|  neighbors_boxcox|\n",
      "+--------------------+----+---+------+------------------+-----+------+---------+------------+-----+-------------+-----------+----------+-------------------------+------------------------+-----------------+------------------+--------------------+------------------+------------------+\n",
      "|11116n3FtiFDohakQ...|2014|296|   144| 0.209228476694109| 1159|     0|        1|     7.599E7|    1|            1|          5|         0|       30.128900643951695|             8.807241E10|4.379699627964952| 3.229606842983993| 0.16588856118993925| 2.238609988910706|0.4605935223305568|\n",
      "|11122aVHBPVz12MJM...|2014| 62|     0|               1.0|    1|     0|        2|       4.5E9|    1|            1|          2|         0|                      0.0|                   4.5E9|              0.0|3.2382088056109404| 0.43577965152749903|0.6005108656377236|0.5917424721199059|\n",
      "|111K8kZAEnJg245r2...|2017| 11|    18|0.0083333333333333|    1|     0|        2|    1.0005E8|    0|            1|          4|         0|       0.1499999999999994|                1.0005E8|2.728150532999767|3.2305841428444055|0.008248680184285541|0.6005108656377236|0.5917424721199059|\n",
      "|111P1xe3fFokuY5ZV...|2016|274|   144|  1.07538340425567| 1044|     0|        1|3.28858268E8|    1|            1|          6|         0|       154.85521021281647|        3.43328031792E11|4.379699627964952|3.2339748155217642|  0.4488580565180842|2.2332642316007774|0.4605935223305568|\n",
      "|111gLWU4zmDbW4fkg...|2015|284|    18| 0.373883928571428|   13|     0|        2|    5.4093E8|    1|            1|          1|         1|        6.729910714285704|               7.03209E9|2.728150532999767|3.2350628225923153| 0.25411244208435557|1.5875869576029682|0.5917424721199059|\n",
      "+--------------------+----+---+------+------------------+-----+------+---------+------------+-----+-------------+-----------+----------+-------------------------+------------------------+-----------------+------------------+--------------------+------------------+------------------+\n",
      "only showing top 5 rows\n",
      "\n"
     ]
    }
   ],
   "source": [
    "df = spark.read.parquet(\"/content/data/feature_engineered_data.pq\")\n",
    "# white as 1 and black as 0\n",
    "df = df.withColumn(\"label\", (df[\"label\"] == \"white\").cast(\"int\"))\n",
    "df.show(5)"
   ]
  },
  {
   "cell_type": "markdown",
   "metadata": {
    "id": "0L4e_nN6oGd7"
   },
   "source": [
    "Vector assembler for feature column"
   ]
  },
  {
   "cell_type": "code",
   "execution_count": 53,
   "metadata": {
    "executionInfo": {
     "elapsed": 407,
     "status": "ok",
     "timestamp": 1733395028575,
     "user": {
      "displayName": "Shubham Yadav",
      "userId": "12982005697369295270"
     },
     "user_tz": -330
    },
    "id": "yskigEuIYP3l"
   },
   "outputs": [],
   "source": [
    "assembler = VectorAssembler(\n",
    "    inputCols=[\n",
    "        \"year\",\n",
    "        \"day\",\n",
    "        \"length\",\n",
    "        \"weight\",\n",
    "        \"count\",\n",
    "        \"looped\",\n",
    "        \"neighbors\",\n",
    "        \"income\",\n",
    "        \"num_addresses\",\n",
    "        \"day_of_week\",\n",
    "        \"length_weight_interaction\",\n",
    "        \"income_count_interaction\",\n",
    "        \"length_boxcox\",\n",
    "        \"income_boxcox\",\n",
    "        \"weight_boxcox\",\n",
    "        \"count_boxcox\",\n",
    "        \"neighbors_boxcox\",\n",
    "    ],\n",
    "    outputCol=\"features\",\n",
    ")\n",
    "data = assembler.transform(df)"
   ]
  },
  {
   "cell_type": "markdown",
   "metadata": {
    "id": "8zmSBt9kobXz"
   },
   "source": [
    "Data split code in 80:20 ratio"
   ]
  },
  {
   "cell_type": "code",
   "execution_count": 52,
   "metadata": {
    "executionInfo": {
     "elapsed": 381,
     "status": "ok",
     "timestamp": 1733395023493,
     "user": {
      "displayName": "Shubham Yadav",
      "userId": "12982005697369295270"
     },
     "user_tz": -330
    },
    "id": "2lkfytc5WhFV"
   },
   "outputs": [],
   "source": [
    "def spark_split(df, ratios: list = [0.8, 0.2], target_col: str = \"target\"):\n",
    "    pos = df.filter(F.col(target_col) == 1)\n",
    "    neg = df.filter(F.col(target_col) == 0)\n",
    "\n",
    "    train_pos, test_pos = pos.randomSplit(ratios, seed=1024)\n",
    "    train_neg, test_neg = neg.randomSplit(ratios, seed=1024)\n",
    "\n",
    "    return train_pos.union(train_neg), test_pos.union(test_neg)"
   ]
  },
  {
   "cell_type": "markdown",
   "metadata": {
    "id": "negmqEqJogmm"
   },
   "source": [
    "List of used machine learning algorithms"
   ]
  },
  {
   "cell_type": "code",
   "execution_count": null,
   "metadata": {
    "executionInfo": {
     "elapsed": 378,
     "status": "ok",
     "timestamp": 1733402954031,
     "user": {
      "displayName": "Shubham Yadav",
      "userId": "12982005697369295270"
     },
     "user_tz": -330
    },
    "id": "vd3_2H--YzA2"
   },
   "outputs": [],
   "source": [
    "# List of used machine learning algorithms\n",
    "algorithms = {\n",
    "    \"LogisticRegression\": LogisticRegression(featuresCol=\"features\", labelCol=\"label\"),\n",
    "    \"DecisionTreeClassifier\": DecisionTreeClassifier(featuresCol=\"features\", labelCol=\"label\"),\n",
    "    \"RandomForestClassifier\": RandomForestClassifier(featuresCol=\"features\", labelCol=\"label\"),\n",
    "    \"NaiveBayes\": NaiveBayes(featuresCol=\"features\", labelCol=\"label\"),\n",
    "    \"GBTClassifier\": GBTClassifier(featuresCol=\"features\", labelCol=\"label\"),\n",
    "    \"LinearSVC\": LinearSVC(featuresCol=\"features\", labelCol=\"label\")\n",
    "}"
   ]
  },
  {
   "cell_type": "markdown",
   "metadata": {
    "id": "J95J8qAeooQt"
   },
   "source": [
    "Split data into train and test data"
   ]
  },
  {
   "cell_type": "code",
   "execution_count": 55,
   "metadata": {
    "executionInfo": {
     "elapsed": 389,
     "status": "ok",
     "timestamp": 1733395064964,
     "user": {
      "displayName": "Shubham Yadav",
      "userId": "12982005697369295270"
     },
     "user_tz": -330
    },
    "id": "Va-WIwZnZYop"
   },
   "outputs": [],
   "source": [
    "train, test = spark_split(data, target_col=\"label\")"
   ]
  },
  {
   "cell_type": "code",
   "execution_count": 81,
   "metadata": {
    "colab": {
     "base_uri": "https://localhost:8080/"
    },
    "executionInfo": {
     "elapsed": 92465,
     "status": "ok",
     "timestamp": 1733403048901,
     "user": {
      "displayName": "Shubham Yadav",
      "userId": "12982005697369295270"
     },
     "user_tz": -330
    },
    "id": "Jitm9e-JZrnS",
    "outputId": "6aebf6a0-b534-4e03-90bf-71ffba6900a1"
   },
   "outputs": [
    {
     "name": "stdout",
     "output_type": "stream",
     "text": [
      "Algo = LogisticRegression\n",
      "precision = 0.759590\n",
      "recall = 0.753197\n",
      "f1 = 0.750930\n",
      "accuracy = 0.753197\n",
      "Algo = DecisionTreeClassifier\n",
      "precision = 0.903364\n",
      "recall = 0.900583\n",
      "f1 = 0.900519\n",
      "accuracy = 0.900583\n",
      "Algo = RandomForestClassifier\n",
      "precision = 0.909422\n",
      "recall = 0.909423\n",
      "f1 = 0.909417\n",
      "accuracy = 0.909423\n",
      "Algo = NaiveBayes\n",
      "precision = 0.489944\n",
      "recall = 0.499912\n",
      "f1 = 0.454319\n",
      "accuracy = 0.499912\n",
      "Algo = GBTClassifier\n",
      "precision = 0.922342\n",
      "recall = 0.921975\n",
      "f1 = 0.921986\n",
      "accuracy = 0.921975\n",
      "Algo = LinearSVC\n",
      "precision = 0.837814\n",
      "recall = 0.764512\n",
      "f1 = 0.749225\n",
      "accuracy = 0.764512\n"
     ]
    }
   ],
   "source": [
    "for name, algorithm in algorithms.items():\n",
    "\n",
    "    model = algorithm.fit(train)\n",
    "    predictions = model.transform(test)\n",
    "    evaluator = BinaryClassificationEvaluator(\n",
    "        labelCol=\"label\", rawPredictionCol=\"rawPrediction\", metricName=\"areaUnderROC\"\n",
    "    )\n",
    "    auc = evaluator.evaluate(predictions)\n",
    "\n",
    "    # Additional evaluators for other metrics\n",
    "    precision_evaluator = MulticlassClassificationEvaluator(\n",
    "        labelCol=\"label\", predictionCol=\"prediction\", metricName=\"weightedPrecision\"\n",
    "    )\n",
    "    recall_evaluator = MulticlassClassificationEvaluator(\n",
    "        labelCol=\"label\", predictionCol=\"prediction\", metricName=\"weightedRecall\"\n",
    "    )\n",
    "    f1_evaluator = MulticlassClassificationEvaluator(\n",
    "        labelCol=\"label\", predictionCol=\"prediction\", metricName=\"f1\"\n",
    "    )\n",
    "    accuracy_evaluator = MulticlassClassificationEvaluator(\n",
    "        labelCol=\"label\", predictionCol=\"prediction\", metricName=\"accuracy\"\n",
    "    )\n",
    "\n",
    "    precision = precision_evaluator.evaluate(predictions)\n",
    "    recall = recall_evaluator.evaluate(predictions)\n",
    "    f1 = f1_evaluator.evaluate(predictions)\n",
    "    accuracy = accuracy_evaluator.evaluate(predictions)\n",
    "\n",
    "    print(f\"Algo = {name}\")\n",
    "    print(f\"precision = {precision:.6f}\")\n",
    "    print(f\"recall = {recall:.6f}\")\n",
    "    print(f\"f1 = {f1:.6f}\")\n",
    "    print(f\"accuracy = {accuracy:.6f}\")\n"
   ]
  }
 ],
 "metadata": {
  "colab": {
   "provenance": []
  },
  "kernelspec": {
   "display_name": "Python 3",
   "name": "python3"
  },
  "language_info": {
   "name": "python"
  }
 },
 "nbformat": 4,
 "nbformat_minor": 0
}
